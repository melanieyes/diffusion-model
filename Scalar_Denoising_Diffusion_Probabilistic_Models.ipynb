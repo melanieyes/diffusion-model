{
  "nbformat": 4,
  "nbformat_minor": 0,
  "metadata": {
    "colab": {
      "provenance": [],
      "toc_visible": true,
      "include_colab_link": true
    },
    "kernelspec": {
      "name": "python3",
      "display_name": "Python 3"
    },
    "language_info": {
      "name": "python"
    }
  },
  "cells": [
    {
      "cell_type": "markdown",
      "metadata": {
        "id": "view-in-github",
        "colab_type": "text"
      },
      "source": [
        "<a href=\"https://colab.research.google.com/github/melanieyes/diffusion-model/blob/main/Scalar_Denoising_Diffusion_Probabilistic_Models.ipynb\" target=\"_parent\"><img src=\"https://colab.research.google.com/assets/colab-badge.svg\" alt=\"Open In Colab\"/></a>"
      ]
    },
    {
      "cell_type": "code",
      "execution_count": null,
      "metadata": {
        "id": "q6aDbEPnMVzA"
      },
      "outputs": [],
      "source": [
        "import torch\n",
        "import torch.nn as nn\n",
        "import numpy as np\n",
        "import torch.optim as optim\n",
        "import matplotlib.pyplot as plt\n",
        "\n",
        "# fixate the seed number so i'll have a consistent result\n",
        "torch.manual_seed(42)\n",
        "np.random.seed(42)"
      ]
    },
    {
      "cell_type": "code",
      "source": [
        "# root number\n",
        "x0 = torch.tensor([0.5])"
      ],
      "metadata": {
        "id": "pbAaoEZaMyIr"
      },
      "execution_count": null,
      "outputs": []
    },
    {
      "cell_type": "code",
      "source": [
        "noise = torch.randn_like(x0)\n",
        "noise"
      ],
      "metadata": {
        "colab": {
          "base_uri": "https://localhost:8080/"
        },
        "id": "t54PxBaWVFP1",
        "outputId": "a8230b46-da24-4c60-ad15-4d9e8ec4473f"
      },
      "execution_count": null,
      "outputs": [
        {
          "output_type": "execute_result",
          "data": {
            "text/plain": [
              "tensor([0.3367])"
            ]
          },
          "metadata": {},
          "execution_count": 3
        }
      ]
    },
    {
      "cell_type": "code",
      "source": [
        "# betas scheduling\n",
        "T = 4\n",
        "beta_start, beta_end = 0.0001, 0.02\n",
        "betas = torch.linspace(beta_start, beta_end, T)\n",
        "alphas = 1 - betas\n",
        "alphas_cumprod = torch.cumprod(alphas, dim=0)\n",
        "sqrt_alphas_cumprod = torch.sqrt(alphas_cumprod)\n",
        "sqrt_one_minus_alphas_cumprod = torch.sqrt(1 - alphas_cumprod)"
      ],
      "metadata": {
        "id": "xGKkEtHFM-Kx"
      },
      "execution_count": null,
      "outputs": []
    },
    {
      "cell_type": "code",
      "source": [
        "alphas"
      ],
      "metadata": {
        "colab": {
          "base_uri": "https://localhost:8080/"
        },
        "id": "Muq72WqiNJua",
        "outputId": "972a6cd6-4c9e-4d0f-b634-3e4452acdecb"
      },
      "execution_count": null,
      "outputs": [
        {
          "output_type": "execute_result",
          "data": {
            "text/plain": [
              "tensor([0.9999, 0.9933, 0.9866, 0.9800])"
            ]
          },
          "metadata": {},
          "execution_count": 5
        }
      ]
    },
    {
      "cell_type": "code",
      "source": [
        "alphas_cumprod"
      ],
      "metadata": {
        "colab": {
          "base_uri": "https://localhost:8080/"
        },
        "id": "uqNP0bGUqmtk",
        "outputId": "e97a46af-5bf7-4385-eed2-a7ae591cf60d"
      },
      "execution_count": null,
      "outputs": [
        {
          "output_type": "execute_result",
          "data": {
            "text/plain": [
              "tensor([0.9999, 0.9932, 0.9799, 0.9603])"
            ]
          },
          "metadata": {},
          "execution_count": 6
        }
      ]
    },
    {
      "cell_type": "code",
      "source": [
        "sqrt_alphas_cumprod"
      ],
      "metadata": {
        "colab": {
          "base_uri": "https://localhost:8080/"
        },
        "id": "IshgwYA5q4It",
        "outputId": "7d18ee18-8fa9-4652-ccd7-0ed4e9a433e3"
      },
      "execution_count": null,
      "outputs": [
        {
          "output_type": "execute_result",
          "data": {
            "text/plain": [
              "tensor([0.9999, 0.9966, 0.9899, 0.9799])"
            ]
          },
          "metadata": {},
          "execution_count": 7
        }
      ]
    },
    {
      "cell_type": "code",
      "source": [
        "sqrt_one_minus_alphas_cumprod"
      ],
      "metadata": {
        "colab": {
          "base_uri": "https://localhost:8080/"
        },
        "id": "K2-VsN1DrBUP",
        "outputId": "ffce850b-03c5-4281-aeb1-98aa361358e4"
      },
      "execution_count": null,
      "outputs": [
        {
          "output_type": "execute_result",
          "data": {
            "text/plain": [
              "tensor([0.0100, 0.0827, 0.1418, 0.1993])"
            ]
          },
          "metadata": {},
          "execution_count": 8
        }
      ]
    },
    {
      "cell_type": "code",
      "source": [
        "t = 1\n",
        "x_1 = sqrt_alphas_cumprod[t] * x0 + sqrt_one_minus_alphas_cumprod[t] * noise\n",
        "x_1"
      ],
      "metadata": {
        "colab": {
          "base_uri": "https://localhost:8080/"
        },
        "id": "v4TyhBEWrwbk",
        "outputId": "9dcaff25-75d6-4d9a-b6e0-d8a8dbdf7512"
      },
      "execution_count": null,
      "outputs": [
        {
          "output_type": "execute_result",
          "data": {
            "text/plain": [
              "tensor([0.5261])"
            ]
          },
          "metadata": {},
          "execution_count": 9
        }
      ]
    },
    {
      "cell_type": "code",
      "source": [
        "# Model linear regression: input (x_t, t) --> output: epsilon_pred\n",
        "class LinearModel(nn.Module):\n",
        "    def __init__(self):\n",
        "        super().__init__()\n",
        "        self.linear = nn.Linear(2, 1)  # input: [x_t, t_norm]\n",
        "\n",
        "    def forward(self, x_t, t):\n",
        "        t_norm = t.float().unsqueeze(1) / T\n",
        "        x = torch.cat([x_t, t_norm], dim=1)\n",
        "        return self.linear(x)\n",
        "\n",
        "model = LinearModel()"
      ],
      "metadata": {
        "id": "c2U9z8_HyTeh"
      },
      "execution_count": null,
      "outputs": []
    },
    {
      "cell_type": "code",
      "source": [
        "model.state_dict()"
      ],
      "metadata": {
        "colab": {
          "base_uri": "https://localhost:8080/"
        },
        "id": "hhUlHHmAyWpP",
        "outputId": "e9cb762e-56fd-4d29-bad7-b502445c86cf"
      },
      "execution_count": null,
      "outputs": [
        {
          "output_type": "execute_result",
          "data": {
            "text/plain": [
              "OrderedDict([('linear.weight', tensor([[-0.1549,  0.1427]])),\n",
              "             ('linear.bias', tensor([-0.3443]))])"
            ]
          },
          "metadata": {},
          "execution_count": 11
        }
      ]
    },
    {
      "cell_type": "code",
      "source": [
        "loss_fn = nn.MSELoss()\n",
        "\n",
        "pred_eps = model(x_1.unsqueeze(1), torch.tensor([t]).long())\n",
        "loss = loss_fn(pred_eps.squeeze(0), noise)\n",
        "pred_eps, loss"
      ],
      "metadata": {
        "colab": {
          "base_uri": "https://localhost:8080/"
        },
        "id": "wcpr3nbv3uO8",
        "outputId": "d0c5c9bb-cd07-4b70-a53b-832a680e8e30"
      },
      "execution_count": null,
      "outputs": [
        {
          "output_type": "execute_result",
          "data": {
            "text/plain": [
              "(tensor([[-0.3901]], grad_fn=<AddmmBackward0>),\n",
              " tensor(0.5282, grad_fn=<MseLossBackward0>))"
            ]
          },
          "metadata": {},
          "execution_count": 12
        }
      ]
    },
    {
      "cell_type": "code",
      "source": [
        "optimizer = optim.Adam(model.parameters(), lr=1e-2)\n",
        "optimizer.zero_grad()\n",
        "loss.backward()\n",
        "optimizer.step()"
      ],
      "metadata": {
        "id": "6sgzq45e5or9"
      },
      "execution_count": null,
      "outputs": []
    },
    {
      "cell_type": "code",
      "source": [
        "model.state_dict()"
      ],
      "metadata": {
        "colab": {
          "base_uri": "https://localhost:8080/"
        },
        "id": "gJbVSXKF5tN5",
        "outputId": "078ddd50-af4c-495d-ce25-24f81e00d588"
      },
      "execution_count": null,
      "outputs": [
        {
          "output_type": "execute_result",
          "data": {
            "text/plain": [
              "OrderedDict([('linear.weight', tensor([[-0.1449,  0.1527]])),\n",
              "             ('linear.bias', tensor([-0.3343]))])"
            ]
          },
          "metadata": {},
          "execution_count": 14
        }
      ]
    },
    {
      "cell_type": "code",
      "source": [
        "# training model\n",
        "steps = 500\n",
        "for step in range(steps):\n",
        "    t = torch.randint(0, T, (1,)).long()\n",
        "    eps = torch.randn_like(x0)\n",
        "    x_t = sqrt_alphas_cumprod[t] * x0 + sqrt_one_minus_alphas_cumprod[t] * eps\n",
        "\n",
        "    pred_eps = model(x_t.unsqueeze(1), t)\n",
        "    loss = loss_fn(pred_eps.squeeze(0), eps)\n",
        "\n",
        "    optimizer.zero_grad()\n",
        "    loss.backward()\n",
        "    optimizer.step()\n",
        "\n",
        "    if (step+1) % 10 == 0:\n",
        "        print(f\"Step {step+1}, Loss: {loss.item():.6f}\")\n",
        "\n",
        "# Forward process\n",
        "forward_trajectory = []\n",
        "for t in range(T):\n",
        "    eps = torch.randn_like(x0)\n",
        "    x_t = sqrt_alphas_cumprod[t] * x0 + sqrt_one_minus_alphas_cumprod[t] * eps\n",
        "    forward_trajectory.append(x_t.item())"
      ],
      "metadata": {
        "colab": {
          "base_uri": "https://localhost:8080/"
        },
        "id": "ooCjV4U4hyrm",
        "outputId": "e9a59be0-1559-4156-fc97-ac4e71dbb604"
      },
      "execution_count": null,
      "outputs": [
        {
          "output_type": "stream",
          "name": "stdout",
          "text": [
            "Step 10, Loss: 0.152132\n",
            "Step 20, Loss: 0.012964\n",
            "Step 30, Loss: 0.016697\n",
            "Step 40, Loss: 0.029058\n",
            "Step 50, Loss: 0.300508\n",
            "Step 60, Loss: 0.101107\n",
            "Step 70, Loss: 2.357594\n",
            "Step 80, Loss: 0.031770\n",
            "Step 90, Loss: 0.124409\n",
            "Step 100, Loss: 0.677176\n",
            "Step 110, Loss: 0.000328\n",
            "Step 120, Loss: 0.928795\n",
            "Step 130, Loss: 1.923289\n",
            "Step 140, Loss: 1.141241\n",
            "Step 150, Loss: 0.027901\n",
            "Step 160, Loss: 0.996438\n",
            "Step 170, Loss: 1.365081\n",
            "Step 180, Loss: 0.193380\n",
            "Step 190, Loss: 3.453658\n",
            "Step 200, Loss: 2.055219\n",
            "Step 210, Loss: 0.119034\n",
            "Step 220, Loss: 0.197162\n",
            "Step 230, Loss: 0.512264\n",
            "Step 240, Loss: 0.075301\n",
            "Step 250, Loss: 1.417635\n",
            "Step 260, Loss: 0.130039\n",
            "Step 270, Loss: 0.188805\n",
            "Step 280, Loss: 0.782253\n",
            "Step 290, Loss: 0.544903\n",
            "Step 300, Loss: 0.854366\n",
            "Step 310, Loss: 0.001799\n",
            "Step 320, Loss: 0.583609\n",
            "Step 330, Loss: 3.155837\n",
            "Step 340, Loss: 0.808562\n",
            "Step 350, Loss: 0.004719\n",
            "Step 360, Loss: 1.035679\n",
            "Step 370, Loss: 0.200521\n",
            "Step 380, Loss: 0.255355\n",
            "Step 390, Loss: 0.173701\n",
            "Step 400, Loss: 0.099638\n",
            "Step 410, Loss: 0.132924\n",
            "Step 420, Loss: 0.437019\n",
            "Step 430, Loss: 0.151815\n",
            "Step 440, Loss: 0.512093\n",
            "Step 450, Loss: 0.026264\n",
            "Step 460, Loss: 2.362783\n",
            "Step 470, Loss: 5.968793\n",
            "Step 480, Loss: 0.210125\n",
            "Step 490, Loss: 0.000037\n",
            "Step 500, Loss: 0.146031\n"
          ]
        }
      ]
    },
    {
      "cell_type": "code",
      "source": [
        "model.state_dict()"
      ],
      "metadata": {
        "colab": {
          "base_uri": "https://localhost:8080/"
        },
        "id": "8Omn_OtVjWJ4",
        "outputId": "33f15a4b-1ba7-40a8-910f-79d7e69eb675"
      },
      "execution_count": null,
      "outputs": [
        {
          "output_type": "execute_result",
          "data": {
            "text/plain": [
              "OrderedDict([('linear.weight', tensor([[ 0.6428, -0.0184]])),\n",
              "             ('linear.bias', tensor([-0.3795]))])"
            ]
          },
          "metadata": {},
          "execution_count": 16
        }
      ]
    },
    {
      "cell_type": "code",
      "source": [
        "# Sampling from x_T\n",
        "x_t = torch.tensor([forward_trajectory[-1]])\n",
        "reverse_trajectory = [x_t.item()]\n",
        "\n",
        "for t in reversed(range(T)):\n",
        "    t_tensor = torch.tensor([t]).long()\n",
        "    alpha_t = alphas[t]\n",
        "    alpha_bar_t = alphas_cumprod[t]\n",
        "    sqrt_one_minus_alpha_bar = torch.sqrt(1 - alpha_bar_t)\n",
        "    sqrt_recip_alpha = torch.sqrt(1 / alpha_t)\n",
        "\n",
        "    eps_theta = model(x_t.unsqueeze(0), t_tensor).squeeze()\n",
        "    mean = sqrt_recip_alpha * (x_t - (1 - alpha_t) / sqrt_one_minus_alpha_bar * eps_theta)\n",
        "\n",
        "    if t > 0:\n",
        "        noise = torch.randn_like(x_t)\n",
        "        sigma = torch.sqrt(betas[t])\n",
        "        x_t = mean + sigma * noise\n",
        "    else:\n",
        "        x_t = mean\n",
        "\n",
        "    reverse_trajectory.append(x_t.item())\n",
        "    print(x_t.item())"
      ],
      "metadata": {
        "id": "dBUyoOOjhv3b",
        "colab": {
          "base_uri": "https://localhost:8080/"
        },
        "outputId": "4874c803-fc81-403e-d1dc-12bd5652990f"
      },
      "execution_count": null,
      "outputs": [
        {
          "output_type": "stream",
          "name": "stdout",
          "text": [
            "0.3436119556427002\n",
            "0.150761678814888\n",
            "0.1634775847196579\n",
            "0.16623036563396454\n"
          ]
        }
      ]
    }
  ]
}